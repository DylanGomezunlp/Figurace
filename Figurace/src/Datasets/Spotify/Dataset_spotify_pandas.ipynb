{
 "cells": [
  {
   "cell_type": "markdown",
   "id": "62e276e1",
   "metadata": {},
   "source": [
    "**En primer logar se lee la información del dataset original y se crea una lista con esa informacion : \"datos\". Inmediatamente selecciono solamente las columnas que indica el enunciado**"
   ]
  },
  {
   "cell_type": "code",
   "execution_count": 1,
   "id": "b3a71480",
   "metadata": {},
   "outputs": [],
   "source": [
    "import csv\n",
    "import os\n",
    "import pandas as pd\n",
    "path = os.path.os.getcwd()\n",
    "dataset = \"Spotify 2010 - 2019 Top 100.csv\"\n",
    "path_dataset = os.path.join(path, dataset)\n",
    "destino = \"spotify.csv\"\n",
    "path_destino = os.path.join(path,destino)\n",
    "\n",
    "datos = pd.read_csv(path_dataset, encoding=\"utf-8\")\n",
    "datos= datos[[\"top genre\",\"artist type\",\"year released\", \"top year\",\"bpm\",\"artist\"]]\n",
    "\n",
    "\n",
    "\n",
    "\n",
    "\n",
    "\n",
    "                    \n"
   ]
  },
  {
   "cell_type": "markdown",
   "id": "93d7c2ae",
   "metadata": {},
   "source": [
    "**A continuación  los géneros musicales y los nombres de las columnas se pasan a Title Case,  se modifican las siglas. También se modifican las siglas y se eliminan las ultimas 3 filas que no tenian información**\n"
   ]
  },
  {
   "cell_type": "code",
   "execution_count": 2,
   "id": "106d4559",
   "metadata": {},
   "outputs": [
    {
     "name": "stdout",
     "output_type": "stream",
     "text": [
      "       Top Genre Artist Type  Year Released  Top Year    Bpm  \\\n",
      "0      Dance Pop         Duo         2009.0    2010.0  140.0   \n",
      "1      Dance Pop         Duo         2010.0    2010.0  138.0   \n",
      "2       Pop Soul        Solo         2010.0    2010.0   95.0   \n",
      "3    Atl Hip Hop        Solo         2010.0    2010.0   93.0   \n",
      "4    Atl Hip Hop        Solo         2010.0    2010.0  104.0   \n",
      "..           ...         ...            ...       ...    ...   \n",
      "995      Hip Hop        Solo         2018.0    2019.0  155.0   \n",
      "996      Hip Hop        Solo         2019.0    2019.0   80.0   \n",
      "997        Grime        Solo         2019.0    2019.0  103.0   \n",
      "998    Afroswing         Duo         2019.0    2019.0  138.0   \n",
      "999  Atl Hip Hop        Solo         2019.0    2019.0   98.0   \n",
      "\n",
      "                 Artist  \n",
      "0                 3OH!3  \n",
      "1                 3OH!3  \n",
      "2            Aloe Blacc  \n",
      "3                 B.o.B  \n",
      "4                 B.o.B  \n",
      "..                  ...  \n",
      "995        Travis Scott  \n",
      "996  Tyler, The Creator  \n",
      "997               Wiley  \n",
      "998    Young T & Bugsey  \n",
      "999          Young Thug  \n",
      "\n",
      "[1000 rows x 6 columns]\n",
      "<class 'str'>\n"
     ]
    },
    {
     "name": "stderr",
     "output_type": "stream",
     "text": [
      "C:\\Users\\Lea\\AppData\\Local\\Temp\\ipykernel_8676\\2820649565.py:13: SettingWithCopyWarning: \n",
      "A value is trying to be set on a copy of a slice from a DataFrame\n",
      "\n",
      "See the caveats in the documentation: https://pandas.pydata.org/pandas-docs/stable/user_guide/indexing.html#returning-a-view-versus-a-copy\n",
      "  case \"Edm\" :datos[\"Top Genre\"][ind]=\"EDM\"\n",
      "C:\\Users\\Lea\\AppData\\Local\\Temp\\ipykernel_8676\\2820649565.py:14: SettingWithCopyWarning: \n",
      "A value is trying to be set on a copy of a slice from a DataFrame\n",
      "\n",
      "See the caveats in the documentation: https://pandas.pydata.org/pandas-docs/stable/user_guide/indexing.html#returning-a-view-versus-a-copy\n",
      "  case \"Uk Hip Hop\" :datos[\"Top Genre\"][ind]=\"UK Hip Hop\"\n",
      "C:\\Users\\Lea\\AppData\\Local\\Temp\\ipykernel_8676\\2820649565.py:17: SettingWithCopyWarning: \n",
      "A value is trying to be set on a copy of a slice from a DataFrame\n",
      "\n",
      "See the caveats in the documentation: https://pandas.pydata.org/pandas-docs/stable/user_guide/indexing.html#returning-a-view-versus-a-copy\n",
      "  case \"Dfw Rap\" :datos[\"Top Genre\"][ind]=\"DFW Rap\"\n",
      "C:\\Users\\Lea\\AppData\\Local\\Temp\\ipykernel_8676\\2820649565.py:19: SettingWithCopyWarning: \n",
      "A value is trying to be set on a copy of a slice from a DataFrame\n",
      "\n",
      "See the caveats in the documentation: https://pandas.pydata.org/pandas-docs/stable/user_guide/indexing.html#returning-a-view-versus-a-copy\n",
      "  case \"Lgbtq+ Hip Hop\" :datos[\"Top Genre\"][ind]=\"LGBTQ+ Hip Hop\"\n",
      "C:\\Users\\Lea\\AppData\\Local\\Temp\\ipykernel_8676\\2820649565.py:15: SettingWithCopyWarning: \n",
      "A value is trying to be set on a copy of a slice from a DataFrame\n",
      "\n",
      "See the caveats in the documentation: https://pandas.pydata.org/pandas-docs/stable/user_guide/indexing.html#returning-a-view-versus-a-copy\n",
      "  case \"Uk Drill\" :datos[\"Top Genre\"][ind]=\"UK Drill\"\n"
     ]
    }
   ],
   "source": [
    "\n",
    "\n",
    "labels = list(datos.columns)\n",
    "labels = list(map(str.title, labels))\n",
    "datos.columns = labels\n",
    "datos[\"Top Genre\"] =datos[\"Top Genre\"].str.title()\n",
    "datos[\"Top Genre\"] =datos[\"Top Genre\"].str.title()\n",
    "datos=datos.drop(index=[1000,1001,1002])\n",
    "\n",
    "print(datos)\n",
    "print(type(datos.iloc[1][\"Top Genre\"]))\n",
    "\n",
    "for ind in datos.index:  \n",
    "    match datos[\"Top Genre\"][ind]:                \n",
    "            case \"Edm\" :datos[\"Top Genre\"][ind]=\"EDM\"\n",
    "            case \"Uk Hip Hop\" :datos[\"Top Genre\"][ind]=\"UK Hip Hop\"\n",
    "            case \"Uk Drill\" :datos[\"Top Genre\"][ind]=\"UK Drill\"    \n",
    "            case \"Alternative r&b\" :datos[\"Top Genre\"][ind]=\"Alternative R&B\" \n",
    "            case \"Dfw Rap\" :datos[\"Top Genre\"][ind]=\"DFW Rap\"\n",
    "            case \"Canadian Contemporary r&b\" :datos[\"Top Genre\"][ind]=\"Canadian Contemporary R&B\" \n",
    "            case \"Lgbtq+ Hip Hop\" :datos[\"Top Genre\"][ind]=\"LGBTQ+ Hip Hop\"\n",
    "            case \"K-pop\" :datos[\"Top Genre\"][ind]=\"K-Pop\" \n",
    "                               \n",
    "  \n",
    "datos.to_csv(path_destino, index=False)   \n",
    "     \n",
    "\n"
   ]
  },
  {
   "cell_type": "markdown",
   "id": "4dac4793",
   "metadata": {},
   "source": [
    "**Finalmente se guarda la información procesada en un archivo CSV**"
   ]
  },
  {
   "cell_type": "code",
   "execution_count": 3,
   "id": "d08e6925",
   "metadata": {},
   "outputs": [],
   "source": [
    "datos.to_csv(path_destino, index=False)  "
   ]
  },
  {
   "cell_type": "code",
   "execution_count": null,
   "id": "52d889f5",
   "metadata": {},
   "outputs": [],
   "source": []
  }
 ],
 "metadata": {
  "kernelspec": {
   "display_name": "Python 3 (ipykernel)",
   "language": "python",
   "name": "python3"
  },
  "language_info": {
   "codemirror_mode": {
    "name": "ipython",
    "version": 3
   },
   "file_extension": ".py",
   "mimetype": "text/x-python",
   "name": "python",
   "nbconvert_exporter": "python",
   "pygments_lexer": "ipython3",
   "version": "3.10.2"
  }
 },
 "nbformat": 4,
 "nbformat_minor": 5
}
