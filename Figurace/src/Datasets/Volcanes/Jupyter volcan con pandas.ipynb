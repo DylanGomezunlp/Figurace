{
 "cells": [
  {
   "cell_type": "markdown",
   "id": "1c8f40e9",
   "metadata": {},
   "source": [
    "# DATA SET MANEJADO CON PANDAS"
   ]
  },
  {
   "cell_type": "markdown",
   "id": "6b076dd6",
   "metadata": {},
   "source": [
    "* INICIO DEL PROGRAMA\n",
    "\n",
    "En esta parte, hago los imports necesarios para manejar pandas y tener el archivo que tiene los nombres de los volcanes traducidos.\n",
    "Posteriormente, abro el archivo y lo uso como constante."
   ]
  },
  {
   "cell_type": "code",
   "execution_count": 87,
   "id": "5da3975d",
   "metadata": {},
   "outputs": [],
   "source": [
    "import pandas as pd\n",
    "import os\n",
    "import json\n",
    "\n",
    "arch_traducciones = os.path.join(os.getcwd(), 'dicc_nombres.json')\n",
    "with open(arch_traducciones, 'r', encoding='utf-8') as f:\n",
    "    DICC_NOMBRES = json.load(f)"
   ]
  },
  {
   "cell_type": "markdown",
   "id": "49d06ea0",
   "metadata": {},
   "source": [
    "* Funciones necesarias para el funcionamiento del programa, documentadas."
   ]
  },
  {
   "cell_type": "code",
   "execution_count": null,
   "id": "2d61c081",
   "metadata": {},
   "outputs": [],
   "source": [
    "def convertir_bool(Flag):\n",
    "    \"Si el flag no es un signo de pregunta, lo pone como verdadero. Si no, como falso.\"\n",
    "    if Flag != \"¿?\":\n",
    "        return True\n",
    "    else:\n",
    "        return False\n",
    "    \n",
    "def concatenar_nombres(fila):\n",
    "    \"Concatena el nombre y el pais de dicha fila\"\n",
    "    pais = fila[\"Country\"]\n",
    "    resultado = fila[\"Volcano Name\"] + f\" ({pais})\"\n",
    "    return resultado\n",
    "\n",
    "def traducir(nombre):\n",
    "    \"A partir del diccionario de nombres, devuelve el str traducido\"\n",
    "    resultado = DICC_NOMBRES[nombre]\n",
    "    return resultado"
   ]
  },
  {
   "cell_type": "markdown",
   "id": "642391b3",
   "metadata": {},
   "source": [
    "* En esta parte ya aplico todas las funcionas a las columnas pedidas por el enunciado."
   ]
  },
  {
   "cell_type": "code",
   "execution_count": 93,
   "id": "441977b8",
   "metadata": {},
   "outputs": [],
   "source": [
    "df = pd.read_csv(\"significant-volcanic-eruption-database.csv\", sep=';')\n",
    "df = df.fillna(\"¿?\") #lleno todo lo vacio con ¿?\n",
    "df[\"Flag Tsunami\"] = df[\"Flag Tsunami\"].apply(convertir_bool) #convierto las flags a booleanos\n",
    "df[\"Flag Earthquake\"] = df[\"Flag Earthquake\"].apply(convertir_bool)\n",
    "df[\"Name and country\"] = df.apply(concatenar_nombres, axis = 1) #concateno los nombres con los paises\n",
    "df[\"Volcano Type\"] = df[\"Volcano Type\"].apply(traducir) #tradusco el tipo del volcan"
   ]
  },
  {
   "cell_type": "markdown",
   "id": "35dacf6d",
   "metadata": {},
   "source": [
    "* Aqui, ya guardo el nuevo csv filtrado con todas las columnas pedidas por el enunciado."
   ]
  },
  {
   "cell_type": "code",
   "execution_count": 92,
   "id": "e1bcfef1",
   "metadata": {},
   "outputs": [],
   "source": [
    "df = df[[\"Year\", \"Volcanic Explosivity Index\",\"Volcano Type\", \"Flag Tsunami\", \"Flag Earthquake\", \"Name and country\"]]\n",
    "df.to_csv(\"Volcan.csv\", index=False)"
   ]
  }
 ],
 "metadata": {},
 "nbformat": 4,
 "nbformat_minor": 5
}
