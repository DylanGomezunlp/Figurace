{
 "cells": [
  {
   "cell_type": "markdown",
   "id": "e4e328a8",
   "metadata": {},
   "source": [
    "## PROCESAMIENTO DEL DATA SET DE VOLCANES"
   ]
  },
  {
   "cell_type": "markdown",
   "id": "0403e3ec",
   "metadata": {},
   "source": [
    "En primera medida hago los imports necesarios para el correcto funcionamiento del programa."
   ]
  },
  {
   "cell_type": "code",
   "execution_count": 6,
   "id": "09fdcbaf",
   "metadata": {},
   "outputs": [],
   "source": [
    "import csv\n",
    "import os\n",
    "import json"
   ]
  },
  {
   "cell_type": "markdown",
   "id": "cdc2934f",
   "metadata": {},
   "source": [
    "Defino mis funciones para el procesamiento de datos del archivo original (no las explico en markdown porque estan todas documentadas)."
   ]
  },
  {
   "cell_type": "code",
   "execution_count": 7,
   "id": "e0659d0f",
   "metadata": {},
   "outputs": [],
   "source": [
    "def generarNuevo(reader,lista_bolleanos,lista_nombres,lista_traduccion, dicc):\n",
    "    \"\"\"Recorro una sola vez el archivo y creo 3 listas que vendrian a ser cada\n",
    "    columna del archivo original\n",
    "\n",
    "\n",
    "    Args:\n",
    "        reader (): archivo original\n",
    "        lista_bolleanos (list): lista de tuplas de las columnas de flags\n",
    "        lista_nombres (list): listas que tendran este formato = \"nombre(pais)\"\n",
    "        lista_traduccion (list): lista de nombres traducidos\n",
    "        dicc (dict): diccionario con todos los nombres de volcanes traducidos que se tomo desde un archivo\n",
    "\n",
    "    Returns:\n",
    "        list: 3 listas antes mencionadas en este orden, lista_boleanos, lista_nombres, lista_de_traducciones\n",
    "    \"\"\"\n",
    "    for l in reader:\n",
    "        if l[3] == '' and l[4] == '': #LOS DOS VACIOS\n",
    "            lista_bolleanos.append(['F', 'F'])\n",
    "        elif l[3] == '' and l[4] != '': #PRIMERO = VACIO SEGUNDO = ALGO\n",
    "            lista_bolleanos.append(['F', 'T'])\n",
    "        elif l[3] != '' and l[4] == '':#PRIMERO = ALGO SEGUNDO = VACIO\n",
    "            lista_bolleanos.append(['T', 'F'])\n",
    "        elif l[3] != '' and l[4] != '':#PRIMERO = LLENO SEGUNDO = LLENO\n",
    "            lista_bolleanos.append(['T', 'T'])\n",
    "\n",
    "        lista_nombres.append(l[6] + ' ' + '(' + l[7] + ')')\n",
    "\n",
    "        lista_traduccion.append(dicc[l[9]])\n",
    "\n",
    "    return lista_bolleanos, lista_nombres, lista_traduccion\n"
   ]
  },
  {
   "cell_type": "markdown",
   "id": "fb1716fc",
   "metadata": {},
   "source": [
    "Declaracion de todos los datos que voy a utilizar para el nuevo archivo. \n",
    "* La variable de arch_traducciones me va a servir para abrir el archivo donde tengo el diccionario de los nombres traducidos\n",
    "* La variable del encabezado estan los datos que tiene que tener el archivo resultante\n",
    "* las 3 listas auxiliares son para guardame los datos que necesito del archivo original para el filtrado. "
   ]
  },
  {
   "cell_type": "code",
   "execution_count": 8,
   "id": "01fad4d6",
   "metadata": {},
   "outputs": [],
   "source": [
    "arch_traducciones = os.path.join(os.getcwd(), 'dicc_nombres.json')\n",
    "encabezado = ['Year', 'Volcanic Explosivity Index', 'Volcano Type', 'Flag Tsunami', 'Flag Earthquake', 'Name and country']\n",
    "aux = []\n",
    "aux2 = []\n",
    "aux3 = []"
   ]
  },
  {
   "cell_type": "markdown",
   "id": "24023ffa",
   "metadata": {},
   "source": [
    "Declaro las variables necesarias para cargar el diccionario del archivo a una variable local, abrir el archivo de volcanes original y crear el nuevo. Cada uno con las rutas correctas para su acceso, asi funcionan en cualquier sistema operativo"
   ]
  },
  {
   "cell_type": "code",
   "execution_count": 9,
   "id": "4f8287ec",
   "metadata": {},
   "outputs": [],
   "source": [
    "with open(arch_traducciones, 'r', encoding='utf-8') as f:\n",
    "    dicc_nombres = json.load(f)\n",
    "archivo_volcan = os.path.join(os.getcwd(), 'significant-volcanic-eruption-database.csv')\n",
    "archivo_volcan_nuevo = os.path.join(os.getcwd(), 'archivo_volcanes_nuevo.csv');"
   ]
  },
  {
   "cell_type": "markdown",
   "id": "f83c1384",
   "metadata": {},
   "source": [
    "En este codigo lo que hice fue lo siguiente:\n",
    "* Abri los archivos con with, asi me olvido de cerrarlos y es mas legible el codigo\n",
    "* Utilizo la funcion seek() para volver el puntero del reader al inicio, asi puedo recorrerlo una vez mas para escrbir el archivo nuevo\n",
    "* Escribo con el writer el encabezado que defini mas atras\n",
    "* Haciendo uso de la funcion zip que me permite iterar sobre varios iterable a la vez, recorro todas las listas que hice anteriormente para escribir correctamente todas las filas del archivo nuevo, con la informacion que procese en la funcion anteriormente."
   ]
  },
  {
   "cell_type": "code",
   "execution_count": 10,
   "id": "627082ca",
   "metadata": {},
   "outputs": [],
   "source": [
    "with open(archivo_volcan, 'r', encoding='utf-8') as volcanes:\n",
    "    reader = csv.reader(volcanes, delimiter=';')\n",
    "    header = next(reader)\n",
    "    with open(archivo_volcan_nuevo, 'w', newline = '') as nuevo:\n",
    "        writer = csv.writer(nuevo, delimiter = ';')\n",
    "        generarNuevo(reader,aux,aux2,aux3,dicc_nombres)\n",
    "        volcanes.seek(0)\n",
    "        writer.writerow(encabezado)\n",
    "        next(reader)\n",
    "        for elem in zip(aux, aux2, aux3, reader):\n",
    "            writer.writerow([elem[3][0],elem[3][11] if elem[3][11]!='' \n",
    "                                else '??',elem[2], elem[0][0] if elem[0][0] != '' else '??', elem[0][1] if \n",
    "                                elem[0][1] != '' else '??', elem[1]])"
   ]
  }
 ],
 "metadata": {
  "kernelspec": {
   "display_name": "Python 3 (ipykernel)",
   "language": "python",
   "name": "python3"
  },
  "language_info": {
   "codemirror_mode": {
    "name": "ipython",
    "version": 3
   },
   "file_extension": ".py",
   "mimetype": "text/x-python",
   "name": "python",
   "nbconvert_exporter": "python",
   "pygments_lexer": "ipython3",
   "version": "3.10.4"
  }
 },
 "nbformat": 4,
 "nbformat_minor": 5
}
