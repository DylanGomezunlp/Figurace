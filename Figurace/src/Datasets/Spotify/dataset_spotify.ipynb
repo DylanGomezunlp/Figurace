{
 "cells": [
  {
   "cell_type": "markdown",
   "id": "62e276e1",
   "metadata": {},
   "source": [
    "**En primer logar se lee la información del dataset original y se crea una lista con esa informacion : \"datos\"**"
   ]
  },
  {
   "cell_type": "code",
   "execution_count": 3,
   "id": "b3a71480",
   "metadata": {},
   "outputs": [],
   "source": [
    "import csv\n",
    "import os\n",
    "\n",
    "path_dataset = os.path.os.getcwd()\n",
    "dataset = \"Spotify 2010 - 2019 Top 100.csv\"\n",
    "with open(os.path.join(path_dataset,\"dataset\", dataset), encoding=\"utf-8-sig\") as archivo:\n",
    "    data = csv.reader(archivo, delimiter=\",\")\n",
    "    datos = list(data)\n",
    "\n",
    "\n",
    "\n",
    "\n",
    "                    \n"
   ]
  },
  {
   "cell_type": "markdown",
   "id": "93d7c2ae",
   "metadata": {},
   "source": [
    "**A continuación se eliminan las columnas que no son de utilidad para el juego (primer \"for\"). En el segundo \"for\" los géneros musicales se pasan a Title Case,  se modifican las siglas, y se les da a las columnas el orden requerido en el enunciado.**"
   ]
  },
  {
   "cell_type": "code",
   "execution_count": 4,
   "id": "106d4559",
   "metadata": {},
   "outputs": [],
   "source": [
    "for linea in datos:\n",
    "    del linea[4];                   \n",
    "    del linea[5:14];\n",
    "   \n",
    "orden = [2, 6, 3, 5, 4, 1, 0]\n",
    "\n",
    "datos_ord = []\n",
    "\n",
    "for linea in datos:\n",
    "    \n",
    "    linea[2]=linea[2].title()\n",
    "    \n",
    "    match linea[2]:                \n",
    "            case \"Edm\" :linea[2]=linea[2].replace(\"Edm\",\"EDM\")\n",
    "            case \"Uk Hip Hop\" :linea[2]=linea[2].replace(\"Uk\",\"UK\")\n",
    "            case \"Uk Drill\" :linea[2]=linea[2].replace(\"Uk\",\"UK\")    \n",
    "            case \"Alternative r&b\" :linea[2]=linea[2].replace(\"r&b\",\"R&B\") \n",
    "            case \"Dfw Rap\" :linea[2]=linea[2].replace(\"Dfw\",\"DFW\")\n",
    "            case \"Canadian contemporary r&b\" :linea[2]=linea[2].replace(\"r&b\",\"R&B\")  \n",
    "            case \"Lgbtq+ Hip Hop\" :linea[2]=linea[2].replace(\"Lgbtq\",\"LGBTQ\")\n",
    "            case \"K-pop\" :linea[2]=linea[2].replace(\"k-pop\",\"K-Pop\")   \n",
    "                \n",
    "    lista_ord = [linea[i] for i in orden]\n",
    "    datos_ord.append(lista_ord)\n",
    "\n",
    "  \n",
    "     \n",
    "\n"
   ]
  },
  {
   "cell_type": "markdown",
   "id": "4dac4793",
   "metadata": {},
   "source": [
    "**Finalmente se guarda la información procesada en un archivo CSV llamado spotify.csv**"
   ]
  },
  {
   "cell_type": "code",
   "execution_count": 5,
   "id": "d08e6925",
   "metadata": {},
   "outputs": [],
   "source": [
    "with open(\"spotify.csv\", \"w\",newline='', encoding=\"utf-8-sig\") as dataset:  \n",
    "    writer = csv.writer(dataset, delimiter = \",\")\n",
    "    for linea in datos_ord:\n",
    "        writer.writerow(linea)"
   ]
  }
 ],
 "metadata": {
  "interpreter": {
   "hash": "a42ccb73e7d9bfdf27e036f1d2b8b681e55fc0743cc5586bc2474d4a60f4b886"
  },
  "kernelspec": {
   "display_name": "Python 3.10.4 64-bit",
   "language": "python",
   "name": "python3"
  },
  "language_info": {
   "codemirror_mode": {
    "name": "ipython",
    "version": 3
   },
   "file_extension": ".py",
   "mimetype": "text/x-python",
   "name": "python",
   "nbconvert_exporter": "python",
   "pygments_lexer": "ipython3",
   "version": "3.10.4"
  }
 },
 "nbformat": 4,
 "nbformat_minor": 5
}
