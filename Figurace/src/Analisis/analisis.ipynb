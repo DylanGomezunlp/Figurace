{
 "cells": [
  {
   "cell_type": "code",
   "execution_count": null,
   "metadata": {},
   "outputs": [],
   "source": [
    "import os\n",
    "import pandas as pd\n",
    "import matplotlib.pyplot as plt\n",
    "import csv\n",
    "import json"
   ]
  },
  {
   "cell_type": "markdown",
   "metadata": {},
   "source": [
    "importo las librerias necesarias para el desarrollo del analisis"
   ]
  },
  {
   "cell_type": "code",
   "execution_count": 3,
   "metadata": {},
   "outputs": [],
   "source": [
    "ruta=os.path.os.getcwd()\n",
    "with open(os.path.join(ruta,'..','Archivos','partidas.csv'), 'r', encoding='utf-8') as ap:\n",
    "    df=pd.read_csv(ap,delimiter=',')"
   ]
  },
  {
   "cell_type": "markdown",
   "metadata": {},
   "source": [
    "Leo el archivo csv ,con pandas utilizando el metodo .read_csv, que esta en la carpeta Archivos/partidas.csv, y los transformo a un DataFrame"
   ]
  },
  {
   "cell_type": "markdown",
   "metadata": {},
   "source": [
    " ## Top 10 de palabras que se encuentran primero de todas las partidas.\n",
    "Creo un  DataFrame completo pero solo con la columna de evento de  las repuestas acertadas,es decir las que son BIEN!. Ahora creo un array del texto ingresado que mas veces se acerto, utilizando el value.counts() que es un metodo de la serie/columna de texto ingresado. Para luego tomar los primeros 10 que mas se repiten utilizando el metodo .head()."
   ]
  },
  {
   "cell_type": "code",
   "execution_count": 18,
   "metadata": {},
   "outputs": [
    {
     "name": "stdout",
     "output_type": "stream",
     "text": [
      "Honshu-Japan (Japan)    2\n",
      "Maximilian Rossmann     1\n",
      "Youssouf M'Changama     1\n",
      "Flemming Niemann        1\n",
      "Youssouph Badji         1\n",
      "Paulo Vítor             1\n",
      "Mark Cullen             1\n",
      "Jailson Caeiro          1\n",
      "Iván Morales            1\n",
      "Jonas Blue              1\n",
      "Name: texto ingresado, dtype: int64\n"
     ]
    }
   ],
   "source": [
    "    df_top=df[df['estado']=='BIEN!']\n",
    "    contador_df=df_top['texto ingresado'].value_counts()\n",
    "    top10_palabras=contador_df.head(10)\n",
    "    print(top10_palabras)"
   ]
  },
  {
   "cell_type": "markdown",
   "metadata": {},
   "source": [
    "## Gráfico que muestre el porcentaje de partidas por estado (fin, cancelada, error,\n",
    "## timeout). También debe tener en cuenta las partidas que se terminaron\n",
    "## inesperadamente o de forma repentina (partidas sin evento de fin). \n",
    "\n",
    "Creo 4 DataFrame uno por cada evento, el evento error nunca va a aparecer porque no tiene evento.\n",
    "Luego a cada Dataframe le tomo la longuitud de elementos que tiene,es decir, la cantidad de partidas por estado.\n",
    "Luego creo una lista con los 4 estados y una lista de colores a eleccion.\n",
    "para crear un grafico en forma de pie, donde recibe como parametro la lista de la cantidad de partidas por estado de cada estado, un label con la lista de los 4 estados, los colores y el autopct es para que calcule el porcentaje por estado."
   ]
  },
  {
   "cell_type": "code",
   "execution_count": 19,
   "metadata": {},
   "outputs": [
    {
     "data": {
      "image/png": "[encoded data removed]",
      "text/plain": [
       "<Figure size 432x288 with 1 Axes>"
      ]
     },
     "metadata": {},
     "output_type": "display_data"
    }
   ],
   "source": [
    "    df_estf=df[df['evento']=='Fin']\n",
    "    df_estc=df[df['evento']=='cancelada']\n",
    "    df_este=df[df['evento']=='error']\n",
    "    df_estt=df[df['estado']=='TimeOut']\n",
    "    fcount=len(df_estf)\n",
    "    ccount=len(df_estc)\n",
    "    ecount=len(df_este)\n",
    "    tcount=len(df_estt)\n",
    "    fin=['finalizada','cancelada','timeout','error']\n",
    "    colores = [\"#EE6055\",\"#60D394\",\"#AAF683\",\"#FFD97D\",\"#FF9B85\"]\n",
    "    plt.pie([fcount,ccount,tcount,ecount],labels=fin, autopct=\"%0.1f %%\",colors=colores)\n",
    "    plt.show()"
   ]
  },
  {
   "cell_type": "markdown",
   "metadata": {},
   "source": [
    "## Gráfico que muestre el porcentaje de partidas finalizadas según género.\n",
    "Creo un DataFrame con todos los eventos de Fin que hubo en mi csv y con ese DataFrame creo otro con los usuarios que tengo del DataFrame creado anteriormente.\n",
    "Abro el json de perfiles para poder ver los generos de cada jugador, y leo los perfiles con json.load.\n",
    "Seteo o,m,h que son contadores y por cada elemento de la lista de los perfiles que lei y ademas por cada nombre de mi DataFrame de los usuarios que finalizaron pregunto si el nombre de mi usuario es igual al elemento de mi json, es decir el nick.\n",
    "Si es asi veo de que genero es y aumento el contador correspondiente.\n",
    "Luego creo una lista de los 3 generos posibles.\n",
    "Creo un grafico de pie donde le paso por parametro una lista de los contadores h,m,o, se le pasa un labels que seria la lista de los generos y el autopct para que calcule el porcentaje."
   ]
  },
  {
   "cell_type": "code",
   "execution_count": 20,
   "metadata": {},
   "outputs": [
    {
     "data": {
      "image/png": "[encoded data removed]",
      "text/plain": [
       "<Figure size 432x288 with 1 Axes>"
      ]
     },
     "metadata": {},
     "output_type": "display_data"
    }
   ],
   "source": [
    "df_est=df[df['evento']=='Fin']\n",
    "df_user=df_est['usuarie']\n",
    "with open(os.path.join(ruta,'..','Archivos','perfiles.json'),'r') as pp:\n",
    "    lista_dic=json.load(pp)\n",
    "    o=0\n",
    "    m=0\n",
    "    h=0\n",
    "    for elem in lista_dic:\n",
    "        for name in df_user:\n",
    "            if (name==elem['nick']):\n",
    "                if elem['genero']=='Mujer':\n",
    "                    m+=1\n",
    "                elif  elem['genero']=='Hombre':\n",
    "                    h+=1\n",
    "                else:\n",
    "                    o+=1\n",
    "generos=['hombre','mujer','otro']\n",
    "plt.pie([h,m,o],labels=generos,autopct=\"%0.1f %%\")\n",
    "plt.show()"
   ]
  },
  {
   "cell_type": "markdown",
   "metadata": {},
   "source": [
    "## Gráfico que muestre el porcentaje de partidas finalizadas según nivel. \n",
    "Creo un DataFrame solo con los eventos de Fin y apartir de ese DataFrame creo otros cinco segun el nivel.\n",
    "A estos 5 les tomo la longuitud del DataFrame ya que serian las partidas finalizadas por cada nivel.\n",
    "Luego creo una lista con las 5 dificultades que se puede tener en el juego, creo otra lista con colores a eleccion.\n",
    "Creo un grafico pie para mostrar el porcentaje de partidas finalizadas segun nivel que se le pasa como paranetro, una lista de la cantidad de partidas finalizadas por nivel, un label que seria la lista creada anteriormente de dificultad, le paso como parametro los colores elejidos y el autopct para que calcule el porcentaje."
   ]
  },
  {
   "cell_type": "code",
   "execution_count": 21,
   "metadata": {},
   "outputs": [
    {
     "data": {
      "image/png": "[encoded data removed]",
      "text/plain": [
       "<Figure size 432x288 with 1 Axes>"
      ]
     },
     "metadata": {},
     "output_type": "display_data"
    }
   ],
   "source": [
    "df_est=df[df['evento']=='Fin']\n",
    "df_p=df_est[df_est['nivel']=='Personalizado']\n",
    "df_f=df_est[ df_est['nivel']=='Facil']\n",
    "df_n=df_est[ df_est['nivel']=='Normal']\n",
    "df_d=df_est[df_est['nivel']=='Dificil']\n",
    "df_e=df_est[ df_est['nivel']=='Experto']\n",
    "dfp=len(df_p)\n",
    "dff=len(df_f)\n",
    "dfn=len(df_n)\n",
    "dfd=len(df_d)\n",
    "dfe=len(df_e)\n",
    "dificultad=['Personalizado','Facil','Normal','Dificil','Experto']\n",
    "colores = [\"#EE6055\",\"#60D394\",\"#AAF683\",\"#FFD97D\",\"#FF9B85\"]\n",
    "plt.pie([dfp,dff,dfn,dfd,dfe],labels=dificultad,autopct=\"%0.1f %%\",colors=colores)\n",
    "plt.show()"
   ]
  },
  {
   "cell_type": "markdown",
   "metadata": {},
   "source": [
    "## Duración total de la partida (desde que el usuarie empieza a jugar hasta que\n",
    "## presiona salir o pasan las N rondas definidas para el nivel de dificultad actual).\n",
    "Creo una lista vacia e itero por cada elemento de la columna 'evento' de mi DataFrame, utilizo el enumerate para tener un indice por cada elemento leido. si el elemento leido es inicio_partida  me guardo el tiempo de ese elemento y si el sigueinte elemento leido es Fin o cancelada, es decir termino la partida o abandono, vuelvo a tomar el tiempo de ese elemento (con el metodo iloc en ambos) y a mi lista vacia le  agrego la resta del tiempo fin con el tiempoinicio.\n",
    "Luego creo un DataFrame de esa lista con la columna de duracion de cada partida jugada"
   ]
  },
  {
   "cell_type": "code",
   "execution_count": 22,
   "metadata": {},
   "outputs": [
    {
     "name": "stdout",
     "output_type": "stream",
     "text": [
      "    duracion_partida\n",
      "0                 26\n",
      "1                 24\n",
      "2                 19\n",
      "3                 22\n",
      "4                 26\n",
      "5                 49\n",
      "6                 15\n",
      "7                 12\n",
      "8                  6\n",
      "9                 26\n",
      "10                12\n",
      "11                13\n",
      "12                55\n",
      "13                78\n",
      "14                 3\n"
     ]
    }
   ],
   "source": [
    "    lista=[]\n",
    "    for i,elem in enumerate(df['evento']):\n",
    "        if elem=='inicio_partida':          \n",
    "            time_in=df.iloc[i]['timestamp']\n",
    "        elif (elem=='Fin' or elem=='cancelada'):\n",
    "            time_fin=df.iloc[i]['timestamp']\n",
    "            lista.append(int(time_fin)-int(time_in))\n",
    "    df_dpart=pd.DataFrame(lista,columns=['duracion_partida'])\n",
    "    print(df_dpart)"
   ]
  },
  {
   "cell_type": "markdown",
   "metadata": {},
   "source": [
    "## Tiempo de la respuesta exitosa más rápida.\n",
    "Creo una lista vacia e itero por cada elemento de la columna 'estado' de mi DataFrame , utilizo el enumerate para tener un indice por cada elemento leido. si el elemento leido es 'nueva'  me guardo el tiempo de ese elemento y pongo mi booleano(ok) en en verdadero y si el sigueinte elemento leido es BIEN!, es decir acerto la tarjeta vuelvo a tomar el tiempo de ese elemento (con el metodo iloc en ambos) y a mi lista vacia le agrego la resta de el tiempo fin con el tiempoinicio y seteo a mi booleano en falso ya que puede haber mas elemento en los cuales acerto el usuario.\n",
    "Luego creo un DataFrame de esa lista con la columna de tiempo exitoso de cada acierto exitoso.\n",
    "Luego con el metodo min del DataFrame creado, toma el tiempo exitoso mas rapido."
   ]
  },
  {
   "cell_type": "code",
   "execution_count": 23,
   "metadata": {},
   "outputs": [
    {
     "name": "stdout",
     "output_type": "stream",
     "text": [
      "tiempo_exitoso    1\n",
      "dtype: int64\n"
     ]
    }
   ],
   "source": [
    "l=[]\n",
    "for i,elem in enumerate(df['estado']):\n",
    "    if elem=='nueva':\n",
    "        ok=True\n",
    "        time_inicio=df.iloc[i]['timestamp']\n",
    "    elif (elem=='BIEN!' and ok):\n",
    "            ok=False\n",
    "            time_final=df.iloc[i]['timestamp']\n",
    "            l.append(int(time_final)-int(time_inicio))    \n",
    "df_exitoso=pd.DataFrame(l,columns=['tiempo_exitoso'])\n",
    "tiempo_mas_rap=df_exitoso.min()\n",
    "print(tiempo_mas_rap)"
   ]
  },
  {
   "cell_type": "markdown",
   "metadata": {},
   "source": [
    "## Promedio de tiempo de respuesta para respuestas exitosas.\n",
    "tomo el DataFrame creado df_exitoso y con el metodo mean() calculo el promedio del tiempo de las partidas."
   ]
  },
  {
   "cell_type": "code",
   "execution_count": 24,
   "metadata": {},
   "outputs": [
    {
     "name": "stdout",
     "output_type": "stream",
     "text": [
      "tiempo_exitoso    5.083333\n",
      "dtype: float64\n"
     ]
    }
   ],
   "source": [
    "prom_exit=df_exitoso.mean()\n",
    "print(prom_exit)"
   ]
  },
  {
   "cell_type": "markdown",
   "metadata": {},
   "source": [
    "## Promedio de tiempo de partida general.\n",
    "tomo el DataFrame creado df_dpart y con el metodo mean() calculo el promedio del tiempo de las partidas."
   ]
  },
  {
   "cell_type": "code",
   "execution_count": 25,
   "metadata": {},
   "outputs": [
    {
     "name": "stdout",
     "output_type": "stream",
     "text": [
      "duracion_partida    25.733333\n",
      "dtype: float64\n"
     ]
    }
   ],
   "source": [
    "prom_gral=df_dpart.mean()\n",
    "print(prom_gral)"
   ]
  },
  {
   "cell_type": "markdown",
   "metadata": {},
   "source": [
    "## Porcentaje de aciertos por usuarie.\n",
    "Creo un DataFrame con la columna de estado todas en bien!, es decir, los aciertos de cada partida jugada.\n",
    "Con el metodo unique, tomo los valores de usuarios sin que se repitan, y creo una lista vacia l_user, y como existe un usuario de inicio ---, agrego a la lista l_user todos los usuarios menos aquel ---.\n",
    "Luego con el metodo value.counts() en el DataFrame df_acierto cuenta las veces que el usuario acerto en las partidas. \n",
    "Creo una lista con los colores a eleccion.\n",
    "Creo un grafico de pie con el porcentaje de acierto por usuario, se le pasa como parametros los colores, el label que en este caso seria la lista l_user, el autopct que calcula el porcentaje y se le pasa la cantidad de acierto que tuvo el jugador."
   ]
  },
  {
   "cell_type": "code",
   "execution_count": 27,
   "metadata": {},
   "outputs": [
    {
     "data": {
      "image/png": "[encoded data removed]",
      "text/plain": [
       "<Figure size 432x288 with 1 Axes>"
      ]
     },
     "metadata": {},
     "output_type": "display_data"
    }
   ],
   "source": [
    "df_acierto=df[df['estado']=='BIEN!']\n",
    "user=df['usuarie'].unique()\n",
    "l_user=[]\n",
    "for elem in user:\n",
    "    if(elem!='---'):\n",
    "        l_user.append(elem)\n",
    "cant_id_acierto=df_acierto['usuarie'].value_counts()\n",
    "colores = [\"#EE6055\",\"#60D394\",\"#AAF683\",\"#FFD97D\",\"#FF9B85\"]\n",
    "plt.pie(cant_id_acierto,labels=l_user,autopct=\"%0.1f %%\",colors=colores)\n",
    "plt.show()\n",
    "\n",
    "\n",
    "\n",
    "    \n"
   ]
  },
  {
   "cell_type": "markdown",
   "metadata": {},
   "source": [
    "## Cantidad de tarjetas para las que el usuarie no dió respuesta (timeout).\n",
    "Creo un DataFrame completo pero con la columna de estado de solo TimeOut, luego con el metodo value.counts() cuento las veces ,por usuario,  que no dio una respuesta."
   ]
  },
  {
   "cell_type": "code",
   "execution_count": 73,
   "metadata": {},
   "outputs": [
    {
     "name": "stdout",
     "output_type": "stream",
     "text": [
      "ala     3\n",
      "mine    3\n",
      "laut    1\n",
      "ama     1\n",
      "Name: usuarie, dtype: int64\n"
     ]
    }
   ],
   "source": [
    "df_to=df[df['estado']=='TimeOut']\n",
    "df_user=df_to['usuarie'].value_counts()\n",
    "print(df_user)"
   ]
  },
  {
   "cell_type": "markdown",
   "metadata": {},
   "source": [
    "## Cantidad de tarjetas en las que el usuarie dió una respuesta errónea.\n",
    "Creo un DataFrame completo pero con la columna de estado de solo mal!,es decir que no acerto la respuesta. Luego con el metodo value.counts() cuento las veces ,por usuario,  que dio una respuesta erronea."
   ]
  },
  {
   "cell_type": "code",
   "execution_count": 74,
   "metadata": {},
   "outputs": [
    {
     "name": "stdout",
     "output_type": "stream",
     "text": [
      "laut     21\n",
      "ala      20\n",
      "oddie    14\n",
      "mine     11\n",
      "carm      4\n",
      "ama       2\n",
      "Name: usuarie, dtype: int64\n"
     ]
    }
   ],
   "source": [
    "df_er=df[df['estado']=='MAL!']\n",
    "df_user=df_er['usuarie'].value_counts()\n",
    "print(df_user)"
   ]
  }
 ],
 "metadata": {
  "kernelspec": {
   "display_name": "Python 3.10.4 64-bit",
   "language": "python",
   "name": "python3"
  },
  "language_info": {
   "codemirror_mode": {
    "name": "ipython",
    "version": 3
   },
   "file_extension": ".py",
   "mimetype": "text/x-python",
   "name": "python",
   "nbconvert_exporter": "python",
   "pygments_lexer": "ipython3",
   "version": "3.10.4"
  },
  "vscode": {
   "interpreter": {
    "hash": "a42ccb73e7d9bfdf27e036f1d2b8b681e55fc0743cc5586bc2474d4a60f4b886"
   }
  }
 },
 "nbformat": 4,
 "nbformat_minor": 4
}
