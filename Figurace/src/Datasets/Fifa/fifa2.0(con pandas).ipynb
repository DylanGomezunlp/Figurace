{
 "cells": [
  {
   "cell_type": "markdown",
   "metadata": {},
   "source": [
    "# **FIFA PROCESADO CON PANDAS**"
   ]
  },
  {
   "cell_type": "code",
   "execution_count": 39,
   "metadata": {},
   "outputs": [],
   "source": [
    "import pandas as pd\n",
    "import os\n",
    "import csv"
   ]
  },
  {
   "cell_type": "markdown",
   "metadata": {},
   "source": [
    ". Se requiere la importacion de la libreria pandas para el manejo del csv,y os para pararnos en nuestro directorio actual"
   ]
  },
  {
   "cell_type": "code",
   "execution_count": 40,
   "metadata": {},
   "outputs": [],
   "source": [
    "def cambiar_pos(lis):\n",
    "    \"\"\"Cambia el string de la columna de posiciones de los jugadores por la posicion en castellano\n",
    "    \n",
    "    \n",
    "        Args:lista de la columna de posiciones de los jugadores\n",
    "        returna la misma lista que fue ingresada como parametro pero con las posiciones en castellano de cada jugador\"\"\"\n",
    "    for n,elem in enumerate(lis):\n",
    "        lista_str=elem.split('|')\n",
    "        for i,j in enumerate(lista_str):\n",
    "                if(j=='GK'): \n",
    "                    lista_str[i]=j.replace('GK','Portero')   \n",
    "                if(j=='RWB'):\n",
    "                     lista_str[i]=j.replace('RWB','Carrilero Derecho')\n",
    "                if(j=='RB'):\n",
    "                    lista_str[i]=j.replace('RB','Lateral Derecho')\n",
    "                if (j=='CB'):\n",
    "                    lista_str[i]=j.replace('CB','Defensa Central')\n",
    "                if(j=='LF'):\n",
    "                    lista_str[i]=j.replace('LF','Lateral Izquierdo')\n",
    "                if(j=='LWB'):\n",
    "                    lista_str[i]=j.replace('LWB','Carrilero Izquierdo')\n",
    "                if(j=='CDM'):\n",
    "                    lista_str[i]=j.replace('CDM','Medio Centro Defensivo')\n",
    "                if (j=='RM'):\n",
    "                    lista_str[i]=j.replace('RM','Medio Derecho')\n",
    "                if(j=='CM'):\n",
    "                    lista_str[i]=j.replace('CM','Medio Centro')\n",
    "                if (j=='LM'):\n",
    "                    lista_str[i]=j.replace('LM','Medio Izquierdo')\n",
    "                if(j=='CAM'):\n",
    "                    lista_str[i]=j.replace('CAM','Medio Centro Ofensivo')\n",
    "                if(j=='RF'):\n",
    "                    lista_str[i]=j.replace('RF','Segundo Delantero Derecho')\n",
    "                if(j=='CF'):\n",
    "                    lista_str[i]=j.replace('CF','Media Punta')\n",
    "                if(j=='LF'):\n",
    "                    lista_str[i]=j.replace('LF','Segundo Delantero Izquierdo')\n",
    "                if(j=='RW'):\n",
    "                    lista_str[i]=j.replace('RW','Extremo Derecho')\n",
    "                if (j=='ST'):\n",
    "                    lista_str[i]=j.replace('ST','Delantero Centro')\n",
    "                if(j=='LW'):\n",
    "                    lista_str[i]=j.replace('LW','Extremo Izquierdo')\n",
    "                if(j=='LB'):\n",
    "                    lista_str[i]=j.replace('LB','Lateral Izquierdo')\n",
    "        lis[n]='|'.join(lista_str)\n",
    "    return lis       \n",
    "              "
   ]
  },
  {
   "cell_type": "markdown",
   "metadata": {},
   "source": [
    ". Mi funcion recibe como parametro una lista de strings, utilizo enumerate para tomar como indice a n. Luego creo una lista de strings con .split y separandolo por | ya que era la separacion que tenia antes, donde esta es la posicion de los jugadores pero abreviado y en ingles. Vuelvo a utilizar el enumerate pero esta vez para no perder el indice de mi lista, porque la lista puede tener un elemento o mas. Esa lista de strings la cambio por la palabra en castellano de la posicion del jugador. Para luego insertarla en la lista de strings, ese string lo creo con el .join y nuevamente con la separacion |, y retorno la nueva lista con las posiciones en castellano de cada jugador."
   ]
  },
  {
   "cell_type": "code",
   "execution_count": 41,
   "metadata": {},
   "outputs": [],
   "source": [
    "def eliminar_desc(df):\n",
    "    \"\"\" Elimina aquellas filas con simbolos\n",
    "    \n",
    "    Args: le paso por parametro el dataframe completo de fifa\n",
    "    return: retorna un nuevo dataframe sin filas con simbolos\n",
    "    \"\"\"\n",
    "    lis=[]\n",
    "    for i,elem in enumerate(df['team']):\n",
    "        if(len(elem.split('?')) != 1):\n",
    "            lis.append(i)\n",
    "    df_renovated=df.drop(lis,axis=\"rows\")\n",
    "    return df_renovated"
   ]
  },
  {
   "cell_type": "markdown",
   "metadata": {},
   "source": [
    ". Esta funcion recibe el dataframe completo, dentro de esta funcion creo una lista vacia y empiezo a iterar sobre la columna 'team' del dataframe tomando cada elemento de este y poniendole un indece con i, utilizando el metodo enumerate. \n",
    "Creo una lista por cada elemento de mi serie separando los strings por ?, que era el simbolo que aparecia en los equipos y por cada vez que aparecia agrego a mi lista (lis) el indice de la fila defectuosa para posteriormente eliminar esas filas utilizando el metodo drop,donde le paso como parametros axis='rows' haciendo referecia que vamos a eliminar una fila y la lista de indices a eliminar. Retorna un nuevo dataframe sin filas con simbolos."
   ]
  },
  {
   "cell_type": "code",
   "execution_count": 33,
   "metadata": {},
   "outputs": [],
   "source": [
    "ruta=os.path.os.getcwd()\n",
    "with open(os.path.join(ruta,'..','FIFA_21_Complete.csv'),'r',encoding='utf-8') as ff:\n",
    "    readerff=csv.reader(ff,delimiter=';')\n",
    "    header=next(readerff)\n",
    "    nuevo_ff=pd.DataFrame(readerff,columns=header)"
   ]
  },
  {
   "cell_type": "markdown",
   "metadata": {},
   "source": [
    ". Con os me paro en mi directorio actual y voy un directorio anterior para tomar el csv  FIFA_21_COMPLETE.csv para luego trasnformarlo en un iterador, el readerff, y me guardo la cabezera de este en una variable utilizado el next(). Ahora creo un dataframe, donde le paso por parametro el iterador readerff y la cabezera que tome del mismo."
   ]
  },
  {
   "cell_type": "code",
   "execution_count": 34,
   "metadata": {},
   "outputs": [],
   "source": [
    "    dropc_nff=nuevo_ff.drop([header[0],header[4],header[6]], axis=1)\n",
    "    indexcol_nff=dropc_nff.reindex([header[8],header[2],header[3],header[5],header[7],header[1]],axis=1)"
   ]
  },
  {
   "cell_type": "markdown",
   "metadata": {},
   "source": [
    ". elimino las columnas que no necesito para crear mi nuevo csv de datos del fifa utilizando el metodo drop donde le paso como parametro una listas con los nombres de las columnas que quiero eliminar,utilizando la cabezera creada anteriormente,y  axis=1 hace referencia a que vamos a eliminar columnas.\n",
    ". con reindex reacomodo las columnas de mi dataframe, con axis=1 hacemos referencia a que vamos a mover columnas y le paso como parametro una lista, utilizando mi header,con los nombres de mis columnas que quiero que se acomoden segun como estan puestas en la lista,utilizando le header creado anteriormente."
   ]
  },
  {
   "cell_type": "code",
   "execution_count": 35,
   "metadata": {},
   "outputs": [],
   "source": [
    "    pot_integer=indexcol_nff['potential'].astype(int)\n",
    "    indexcol_nff.loc[pot_integer < 60,'potential']='Regular'\n",
    "    indexcol_nff.loc[pot_integer.ge(60) & pot_integer.le(79),'potential']='Bueno'\n",
    "    indexcol_nff.loc[pot_integer.ge(80) & pot_integer.le(89),'potential']='Muy bueno'                    \n",
    "    indexcol_nff.loc[pot_integer.ge(90),'potential']='Sobresaliente'"
   ]
  },
  {
   "cell_type": "markdown",
   "metadata": {},
   "source": [
    ". pot_integer cambia de tipo el valor de la columna potencial, pasaron de ser un string a enteros.\n",
    ". Las siguientes 4 metodos cambian el valor de la columna de potencial segun una condicion. Al metodo .loc le paso como parametro la columna que va a ser modificada y la condicion y la igualo a el string por el cual el valor anterior va a ser reemplazado. .ge() es similar al >= y .le() es similar al <=. Esta condicion esta dada segun los criterios planteados."
   ]
  },
  {
   "cell_type": "code",
   "execution_count": 36,
   "metadata": {},
   "outputs": [],
   "source": [
    "    lista_pos=indexcol_nff['position'].tolist()\n",
    "    cambiar_pos(lista_pos)\n",
    "    posiciones=pd.DataFrame(lista_pos)\n",
    "    indexcol_nff['position']=posiciones"
   ]
  },
  {
   "cell_type": "markdown",
   "metadata": {},
   "source": [
    ". Convierto a la columna de posiciones en una lista utilizando tolist() que es el metodo de la serie.\n",
    ". Llamo a mi funcion cambiar_pos, que cambia la posiciones abreviadas en ingles de los jugadores por las posiciones en castellano.\n",
    ". Esa lista que me devuelve mi funcion la convierto en dataframe, este es de una sola columna entonces igualo la columna posiciones que tenia antes a este nuevo dataframe que llame posiciones, para que pise todos los datos anteriores y los reemplaze por los nuevos."
   ]
  },
  {
   "cell_type": "code",
   "execution_count": 37,
   "metadata": {},
   "outputs": [],
   "source": [
    "    renovated_df=eliminar_desc(indexcol_nff)"
   ]
  },
  {
   "cell_type": "markdown",
   "metadata": {},
   "source": [
    ". Llamo a mi funcion elimnar_desc para que me elimine las filas de aquellos equipos con nombres con simbolos y me retorna un nuevo dataframe llamado renovated_df"
   ]
  },
  {
   "cell_type": "code",
   "execution_count": 38,
   "metadata": {},
   "outputs": [],
   "source": [
    "    renovated_df.to_csv('nuevo_fifa.csv',index=False)"
   ]
  },
  {
   "cell_type": "markdown",
   "metadata": {},
   "source": [
    ". Creo un csv con los datos de mi dataframe, index=False es para que no se copien los indices que tiene el dataframe en mi csv."
   ]
  }
 ],
 "metadata": {
  "kernelspec": {
   "display_name": "Python 3",
   "language": "python",
   "name": "python3"
  },
  "language_info": {
   "codemirror_mode": {
    "name": "ipython",
    "version": 3
   },
   "file_extension": ".py",
   "mimetype": "text/x-python",
   "name": "python",
   "nbconvert_exporter": "python",
   "pygments_lexer": "ipython3",
   "version": "3.7.6"
  }
 },
 "nbformat": 4,
 "nbformat_minor": 4
}
