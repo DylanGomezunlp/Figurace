{
 "cells": [
  {
   "cell_type": "code",
   "execution_count": 1,
   "metadata": {},
   "outputs": [],
   "source": [
    "import os\n",
    "import csv\n"
   ]
  },
  {
   "cell_type": "markdown",
   "metadata": {},
   "source": [
    "Importo os para manejar mis archivos y csv para leer/escribir mis archivos"
   ]
  },
  {
   "cell_type": "code",
   "execution_count": 2,
   "metadata": {},
   "outputs": [],
   "source": [
    "def cambio_pos(l):\n",
    "        for y,listado in enumerate(l):\n",
    "            string=listado[2].split('|')\n",
    "            for i,j in enumerate(string):\n",
    "                if(j=='GK'): \n",
    "                    string[i]=j.replace('GK','Portero')   \n",
    "                if(j=='RWB'):\n",
    "                     string[i]=j.replace('RWB','Carrilero Derecho')\n",
    "                if(j=='RB'):\n",
    "                    string[i]=j.replace('RB','Lateral Derecho')\n",
    "                if (j=='CB'):\n",
    "                    string[i]=j.replace('CB','Defensa Central')\n",
    "                if(j=='LF'):\n",
    "                    string[i]=j.replace('LF','Lateral Izquierdo')\n",
    "                if(j=='LWB'):\n",
    "                    string[i]=j.replace('LWB','Carrilero Izquierdo')\n",
    "                if(j=='CDM'):\n",
    "                    string[i]=j.replace('CDM','Medio Centro Defensivo')\n",
    "                if (j=='RM'):\n",
    "                    string[i]=j.replace('RM','Medio Derecho')\n",
    "                if(j=='CM'):\n",
    "                    string[i]=j.replace('CM','Medio Centro')\n",
    "                if (j=='LM'):\n",
    "                    string[i]=j.replace('LM','Medio Izquierdo')\n",
    "                if(j=='CAM'):\n",
    "                    string[i]=j.replace('CAM','Medio Centro Ofensivo')\n",
    "                if(j=='RF'):\n",
    "                    string[i]=j.replace('RF','Segundo Delantero Derecho')\n",
    "                if(j=='CF'):\n",
    "                    string[i]=j.replace('CF','Media Punta')\n",
    "                if(j=='LF'):\n",
    "                    string[i]=j.replace('LF','Segundo Delantero Izquierdo')\n",
    "                if(j=='RW'):\n",
    "                    string[i]=j.replace('RW','Extremo Derecho')\n",
    "                if (j=='ST'):\n",
    "                    string[i]=j.replace('ST','Delantero Centro')\n",
    "                if(j=='LW'):\n",
    "                    string[i]=j.replace('LW','Extremo Izquierdo')\n",
    "            l[y][2]='|'.join(string)\n",
    "        return l       "
   ]
  },
  {
   "cell_type": "markdown",
   "metadata": {},
   "source": [
    "Mi funcion recibe como parametro una lista de listas, utilizo enumerate para tomar como indice a y, ya que es una lista de listas.\n",
    "luego creo una lista de strings con .split y separandolo por | ya que era la separacion que tenia antes, donde esta es la posicion de los jugadores pero abreviado y en ingles. Vuelvo a utilizar el enumerate pero esta vez para no perder el indice de mi lista, porque la lista puede tener un elemento o mas.\n",
    "Esa lista de strings la cambio por la palabra en castellano de la posicion del jugador.\n",
    "Para luego insertarla en la lista de listas como un nuevo string, ese string lo creo con el .join y nuevamente con la separacion |, y retorno la nueva lista con las posiciones en castellano de cada jugador.\n"
   ]
  },
  {
   "cell_type": "code",
   "execution_count": 3,
   "metadata": {},
   "outputs": [],
   "source": [
    "def cambiar_potencial(l,string):\n",
    "    for i,listado in enumerate(l):\n",
    "        l[i][4]=listado[4].replace(listado[4],string)\n",
    "    return l"
   ]
  },
  {
   "cell_type": "markdown",
   "metadata": {},
   "source": [
    "Creo una funcion donde recibe un string y una lista de listas. Esta puede ser la lista de jugadores con potencial menor a 60 o mayor o igual a 60 y menor e igual a 79 o mayor o igual a 80 y menor o igual a 89 o mayor e igual a 90. Estas listas son todas distintas porque fueron separadas por un criterio. Ahora cada lista debera contener un string segun su potencial en vez de tener 60 va a tener 'regular' y asi con las demas listas (cada string es diferente para cada lista).Utilizo el enumerate tener un indice en mi lista de listas y asi reemplazar el string en cada una de estas listas de listas.\n",
    "Esta me retorna la lista de listas con el potencial en castellano de cada jugador segun el potencial que tenia antes."
   ]
  },
  {
   "cell_type": "code",
   "execution_count": 4,
   "metadata": {},
   "outputs": [],
   "source": [
    "def incluir_todo_en_csv(lis):\n",
    "    for i,linea in enumerate(lis):\n",
    "        writeraff.writerow(lis[i])"
   ]
  },
  {
   "cell_type": "markdown",
   "metadata": {},
   "source": [
    "Mi funcion recibe una listas de listas,utilizando el enumerate para tener un indice en mi lista de listas ,y poder asi escribir cada lista  en un nuevo csv."
   ]
  },
  {
   "cell_type": "code",
   "execution_count": 5,
   "metadata": {},
   "outputs": [],
   "source": [
    "ruta=os.path.os.getcwd()\n",
    "with open(os.path.join(ruta,'FIFA_21_Complete.csv'),encoding='utf-8') as ff:\n",
    "    reader=csv.reader(ff,delimiter=';')\n",
    "    header=next(reader)\n",
    "    nuevo_head=[header[8],header[2],header[3],header[5],header[7],header[1]]\n",
    "    lista=list(map(lambda fila: [fila[8],fila[2],fila[3],fila[5],fila[7],fila[1]],reader))"
   ]
  },
  {
   "cell_type": "markdown",
   "metadata": {},
   "source": [
    "con os me paro en mi directorio actual y agrego a FIFA_21_COMPLETE.csv para luego trasnformarlo en un iterador, el reader, y me guardo la cabezera de este en una variable utilizado el next().\n",
    "Ahora creo una nueva lista, que va a ser la cabezera mi nuevo csv, y con el header creado, solo coloco los nombre de columnas que necesito tener en mi nuevo csv.\n",
    "Luego creo una lista, utilizado un map sobre el reader creado anteriormente junto con un lambda que le aplicada una funcion. Esta funcion es una nueva lista de las columnas que solo necesito en mi nuevo csv.\n"
   ]
  },
  {
   "cell_type": "code",
   "execution_count": 6,
   "metadata": {},
   "outputs": [],
   "source": [
    "    listar_menor_a_60=list(filter(lambda fila: fila[4]<'60',lista))\n",
    "    listar_mayor_e_igual_a_60=list(filter(lambda fila: '60'<=fila[4]<='79',lista))\n",
    "    listar_menor_a_89=list(filter(lambda fila: '80'<=fila[4]<='89',lista))\n",
    "    listar_mayor_a_90=list(filter(lambda fila: fila[4]>='90',lista))"
   ]
  },
  {
   "cell_type": "markdown",
   "metadata": {},
   "source": [
    "Creo 4 listas utilizando el filter sobre la lista creada anteriormente para mi nuevo csv, donde le aplico un lambda con una funcion diferente para cada una segun el criterio que estoy buscando.\n",
    "Para listar_menor_a_60 la funcion que le aplico es que para todos aquellos jugadores que tengas un potencial debajo de 60 se quedan en mi lista, los demas no.\n",
    "Para listar_mayor_e_igual_a_60 la funcion que le aplico es que para todos aquellos jugadore que tengan un potencial entre 60 y 79 se quedan en mi lista, los demas no.\n",
    "Para listar_menor_a_89 la funcion que le aplico es que para todos aquellos jugadores que tengan un potencial entre 80 y 89 se quedan en mi lista, los demas no.\n",
    "Para listar_mayor_a_90 la funcion que le aplico es que para todos aquellos jugadore que tengan un potencial mayor o igual a 90 se quedan en mi lista, los demas no."
   ]
  },
  {
   "cell_type": "code",
   "execution_count": 7,
   "metadata": {},
   "outputs": [],
   "source": [
    "    quitar_smenos60=list(filter(lambda fila: len(fila[0].split('?'))==1 ,listar_menor_a_60))\n",
    "    quitar_smas60=list(filter(lambda fila: len(fila[0].split('?'))==1 ,listar_mayor_e_igual_a_60))\n",
    "    quitar_smenos89=list(filter(lambda fila: len(fila[0].split('?'))==1 ,listar_menor_a_89))\n",
    "    quitar_smas90=list(filter(lambda fila: len(fila[0].split('?'))==1 ,listar_mayor_a_90))"
   ]
  },
  {
   "cell_type": "markdown",
   "metadata": {},
   "source": [
    "Como vi que el archivo dado tenia errores de ortografia, entonces creo 4 listas de listas utilizando filter sobre cada lista creada anteriormente(listar_menor_a_60,listar_mayor_e_igual_a_60,listar_menor_a_89,listar_mayor_a_90), esas listas son distintas porque estan separadas por criterios distintos, y le aplico una funcion lambda en donde a la fila[0] la transformo en una lista utilizando el meotdo split y lo separo por ?, que era el error que tenian todos. y si la longuitud de la lista era 1, es decir no tenia errores de tipeo, se queda en la lista que creo, caso contrario no."
   ]
  },
  {
   "cell_type": "code",
   "execution_count": null,
   "metadata": {},
   "outputs": [],
   "source": [
    "    cambiar_potencial(quitar_smenos60,'Regular')\n",
    "    cambiar_potencial(quitar_smas60,'Bueno')\n",
    "    cambiar_potencial(quitar_smenos89,'Muy bueno')\n",
    "    cambiar_potencial(quitar_smas90,'Sobresaliente')\n",
    "    cambio_pos(quitar_smas90)\n",
    "    cambio_pos(quitar_smenos89)\n",
    "    cambio_pos(quitar_smas60)\n",
    "    cambio_pos(quitar_smenos60)  "
   ]
  },
  {
   "cell_type": "markdown",
   "metadata": {},
   "source": [
    "LLamo a mis funciones cambiar_potencial para cada lista que cree anteriormente(quitar_smenos60,quitar_smas60,quitar_smenos89,quitar_smas90), las 4. Tambien llamo a mi funcion cambio_pos y le mando las nuevas listas que me devolvio mi funcion cambiar_potencial."
   ]
  },
  {
   "cell_type": "code",
   "execution_count": 9,
   "metadata": {},
   "outputs": [],
   "source": [
    " with open(os.path.join(ruta,'archivo_fifa21.csv'),'w',newline='',encoding='utf-8') as aff:\n",
    "        writeraff=csv.writer(aff, delimiter=',')\n",
    "        writeraff.writerow(nuevo_head)\n",
    "        incluir_todo_en_csv(quitar_smas90)\n",
    "        incluir_todo_en_csv(quitar_smenos89)\n",
    "        incluir_todo_en_csv(quitar_smas60)\n",
    "        incluir_todo_en_csv(quitar_smenos60)"
   ]
  },
  {
   "cell_type": "markdown",
   "metadata": {},
   "source": [
    "Creo un archivo csv nuevo para escribir las listas de listas que genere apartir de el csv anterior, con os lo agrego a mi directorio actual y tambien utilizo newline='' para que no tenga espacios en blanco. Entonces escribo la cabezera que cree anteriormente con .writerow sobre el csv nuevo y por ultimo invoco a mi funcion incluir_todo_en_csv para cada listas de listas creada anteriormente(quitar_smenos60,quitar_smas60,quitar_smenos89,quitar_smas90). La escritura del csv es ascendente segun el potencial."
   ]
  },
  {
   "cell_type": "code",
   "execution_count": null,
   "metadata": {},
   "outputs": [],
   "source": []
  }
 ],
 "metadata": {
  "kernelspec": {
   "display_name": "Python 3",
   "language": "python",
   "name": "python3"
  },
  "language_info": {
   "codemirror_mode": {
    "name": "ipython",
    "version": 3
   },
   "file_extension": ".py",
   "mimetype": "text/x-python",
   "name": "python",
   "nbconvert_exporter": "python",
   "pygments_lexer": "ipython3",
   "version": "3.7.6"
  }
 },
 "nbformat": 4,
 "nbformat_minor": 4
}
